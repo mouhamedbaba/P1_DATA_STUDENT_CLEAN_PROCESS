{
 "cells": [
  {
   "cell_type": "code",
   "execution_count": 40,
   "metadata": {},
   "outputs": [
    {
     "data": {
      "text/plain": [
       "False"
      ]
     },
     "execution_count": 40,
     "metadata": {},
     "output_type": "execute_result"
    }
   ],
   "source": [
    "chaine = \"12345!A\"\n",
    "def is_number_valid(number) :\n",
    "    carracters_speciaux = [\".\", \"&\", \"!\", \"@\", \"$\", \"%\", \"^\", \"*\", \"(\", \")\", \"_\", \"-\", \"+\", \"=\", \"{\", \"}\", \"[\", \"]\", \"|\", \"\\\\\", \":\", \";\", \"'\", '\"', \"<\", \">\", \",\", \"?\", \"/\", \" \"]\n",
    "    have_digit = False\n",
    "    if not str(number).isupper() :\n",
    "        return False\n",
    "    if len(number) != 7:\n",
    "        return False\n",
    "    for i in range(10):\n",
    "        for car in str(number) :\n",
    "            if car == str(i) :\n",
    "                have_digit = True\n",
    "                break\n",
    "    for car in str(number) :\n",
    "        if car in carracters_speciaux :\n",
    "            return False\n",
    "    if have_digit ==  False :\n",
    "        return False\n",
    "    return True\n",
    "\n",
    "    \n",
    "is_number_valid(chaine)\n",
    "            \n"
   ]
  },
  {
   "cell_type": "code",
   "execution_count": 60,
   "metadata": {},
   "outputs": [
    {
     "data": {
      "text/plain": [
       "False"
      ]
     },
     "execution_count": 60,
     "metadata": {},
     "output_type": "execute_result"
    }
   ],
   "source": [
    "def is_first_name(first_name):\n",
    "    if len(str(first_name)) < 3 :\n",
    "        return False\n",
    "    if  not str(first_name[0]).isupper() :\n",
    "        return False\n",
    "    lettre_in_first_name = []\n",
    "    for car in str(first_name) :\n",
    "        if not car.isdigit() :\n",
    "            lettre_in_first_name.append(car)\n",
    "    if len(lettre_in_first_name) < 3:\n",
    "        return False\n",
    "    return True\n",
    "\n",
    "fn = \"jjj2\"\n",
    "is_first_name(fn)"
   ]
  },
  {
   "cell_type": "code",
   "execution_count": 201,
   "metadata": {},
   "outputs": [
    {
     "name": "stdout",
     "output_type": "stream",
     "text": [
      "['1', 'avril', '2004']\n",
      "['01', '04', '04']\n"
     ]
    },
    {
     "data": {
      "text/plain": [
       "'01/04/04'"
      ]
     },
     "execution_count": 201,
     "metadata": {},
     "output_type": "execute_result"
    }
   ],
   "source": [
    "def format_date(date):\n",
    "    date_month_digit = {\n",
    "        \"janvier\" : \"01\",\n",
    "        \"fevrier\" : \"02\",\n",
    "        \"mars\" : \"03\",\n",
    "        \"avril\" : \"04\",\n",
    "        \"mai\" : \"05\",\n",
    "        \"juin\" : \"06\",\n",
    "        \"juillet\" : \"07\",\n",
    "        \"aout\" : \"08\",\n",
    "        \"septembre\" : \"09\",\n",
    "        \"octobre\" : \"10\",\n",
    "        \"novembre\" : \"11\",\n",
    "        \"decembre\" : \"12\"\n",
    "    }\n",
    "    date = date.replace(\"-\", \"/\")\n",
    "    date = date.replace(\":\", \"/\")\n",
    "    date = date.replace(\",\", \"/\")\n",
    "    date = date.replace(\"|\", \"/\")\n",
    "    date = date.replace(\" \", \"/\")\n",
    "    \n",
    "    \n",
    "    splited_date_list = date.split(\"/\")\n",
    "    print(splited_date_list)\n",
    "    \n",
    "    \n",
    "    if len(splited_date_list[0]) == 1:\n",
    "        splited_date_list[0] = \"0\" + splited_date_list[0]\n",
    "    if len(splited_date_list[2]) == 4 :\n",
    "        splited_date_list[2] = splited_date_list[2][-2:]\n",
    "\n",
    "    for key in date_month_digit.keys():\n",
    "        month = splited_date_list[1]\n",
    "        digit_month = date_month_digit[key]\n",
    "        if key == month.lower():\n",
    "            splited_date_list[1] = digit_month\n",
    "            \n",
    "    if len(splited_date_list[1]) == 1:\n",
    "        splited_date_list[1] = \"0\" + splited_date_list[1]\n",
    "        \n",
    "        \n",
    "        \n",
    "    if int(splited_date_list[1]) > 12 and int(splited_date_list[0]) < 31 :\n",
    "        splited_date_list[0], splited_date_list[1] = splited_date_list[1], splited_date_list[0]\n",
    "        \n",
    "\n",
    "        \n",
    "    print(splited_date_list)\n",
    "    jour, mois,annee = splited_date_list\n",
    "    date = str(jour) + \"/\" + str(mois) + \"/\" + str(annee)\n",
    "    return date\n",
    "\n",
    "date = format_date(\"1,avril,2004\")\n",
    "date"
   ]
  },
  {
   "cell_type": "code",
   "execution_count": 215,
   "metadata": {},
   "outputs": [
    {
     "data": {
      "text/plain": [
       "True"
      ]
     },
     "execution_count": 215,
     "metadata": {},
     "output_type": "execute_result"
    }
   ],
   "source": [
    "def is_date_valid(date):\n",
    "    date_month_digit = {\n",
    "        \"janvier\" : \"01\",\n",
    "        \"fevrier\" : \"02\",\n",
    "        \"mars\" : \"03\",\n",
    "        \"avril\" : \"04\",\n",
    "        \"mai\" : \"05\",\n",
    "        \"juin\" : \"06\",\n",
    "        \"juillet\" : \"07\",\n",
    "        \"aout\" : \"08\",\n",
    "        \"septembre\" : \"09\",\n",
    "        \"octobre\" : \"10\",\n",
    "        \"novembre\" : \"11\",\n",
    "        \"decembre\" : \"12\"\n",
    "    }\n",
    "    date = date.replace(\"-\", \"/\")\n",
    "    date = date.replace(\":\", \"/\")\n",
    "    date = date.replace(\",\", \"/\")\n",
    "    date = date.replace(\" \", \"/\")\n",
    "    date = date.split('/')\n",
    "    \n",
    "    jour, mois ,annee = date\n",
    "    \n",
    "    if not jour.isdigit() or not annee.isdigit():\n",
    "        return False\n",
    "    \n",
    "    if mois.isdigit() :\n",
    "        if int(mois) > 12:\n",
    "            return False\n",
    "    elif mois.lower() not in date_month_digit.keys() :\n",
    "        return False\n",
    "    if int(jour) > 30:\n",
    "        return False\n",
    "    return True\n",
    "\n",
    "is_date_valid(\"30/04/0000\")"
   ]
  },
  {
   "cell_type": "code",
   "execution_count": 223,
   "metadata": {},
   "outputs": [
    {
     "data": {
      "text/plain": [
       "'3eB'"
      ]
     },
     "execution_count": 223,
     "metadata": {},
     "output_type": "execute_result"
    }
   ],
   "source": [
    "def format_classe(classe):\n",
    "    classe = classe.strip()\n",
    "    classe = classe.replace(\" \", \"\")\n",
    "    classe = classe.replace(\"ieme\", \"e\")\n",
    "    classe = classe.replace(\"eme\", \"e\")\n",
    "    classe = classe.replace(\"ème\", \"e\")\n",
    "    classe = classe.replace(\"em\", \"e\")\n",
    "    return classe\n",
    "format_classe(\"     3iemeB\")"
   ]
  },
  {
   "cell_type": "code",
   "execution_count": 225,
   "metadata": {},
   "outputs": [
    {
     "data": {
      "text/plain": [
       "False"
      ]
     },
     "execution_count": 225,
     "metadata": {},
     "output_type": "execute_result"
    }
   ],
   "source": [
    "def is_class_valid(classe):\n",
    "    classe = classe.strip()\n",
    "    grades = [\"6\", \"5\", \"3\"]\n",
    "    lettres = [\"A\",\"B\", \"C\", \"D\"]\n",
    "    if classe[0] not in grades:\n",
    "        return False\n",
    "    if classe[-1] not in lettres:\n",
    "        return False\n",
    "    return True\n",
    "\n",
    "is_class_valid(\"      3 em A\")\n",
    "    "
   ]
  },
  {
   "cell_type": "code",
   "execution_count": 288,
   "metadata": {},
   "outputs": [
    {
     "name": "stdout",
     "output_type": "stream",
     "text": [
      "['04|03', '05']\n",
      "['15|16', '14']\n",
      "['15|16', '17']\n",
      "['04|03', '07']\n",
      "['12|09', '10']\n",
      "['16|15', '17']\n",
      "{'devoirs': {'MATH': 7.0, 'FRANCAIS': 31.0, 'ANGLAIS': 31.0, 'PC': 7.0, 'SVT': 21.0, 'HG': 31.0}, 'exam': {'MATH': '05', 'FRANCAIS': '14', 'ANGLAIS': '17', 'PC': '07', 'SVT': '10', 'HG': '17'}}\n"
     ]
    }
   ],
   "source": [
    "def format_note(matiers) -> dict:\n",
    "    notes = {\n",
    "        \"devoirs\" : {},\n",
    "        \"exam\" : {}\n",
    "    }\n",
    "    matiers = matiers.split(\"#\")\n",
    "    for matier in matiers :\n",
    "        nom_matier = \"\"\n",
    "        notes_matieres = []\n",
    "        for car in matier:\n",
    "            if car != \"[\":\n",
    "                nom_matier += car\n",
    "            else :\n",
    "                notes_matieres =  matier.replace(nom_matier, \"\")\n",
    "                notes_matieres =  notes_matieres.replace(\"[\", \"\")\n",
    "                notes_matieres =  notes_matieres.replace(\"]\", \"\")\n",
    "                break\n",
    "        notes_matieres = notes_matieres.replace(\" \", \"\")\n",
    "        notes_matieres = notes_matieres.split(\":\")\n",
    "        notes_devoir = notes_matieres[0]\n",
    "        notes_devoir = notes_devoir.split(\"|\")\n",
    "        sum_note_devoir = 0\n",
    "        for note in notes_devoir :\n",
    "            note = note.replace(\",\", \".\")\n",
    "            sum_note_devoir = sum_note_devoir + float(note)\n",
    "        note_exam = 0\n",
    "        print(notes_matieres)\n",
    "        if len(notes_matieres) == 2 :\n",
    "            \n",
    "            note_exam = notes_matieres[1]\n",
    "        notes[\"devoirs\"][nom_matier.upper()] = sum_note_devoir\n",
    "        notes[\"exam\"][nom_matier.upper()] = note_exam\n",
    "        \n",
    "    print(notes)\n",
    "        \n",
    "        # print(nom_matier, \"--- >\" , \"Devoir :\" , notes_devoir , \"exam : \", note_exam )\n",
    "                    \n",
    "note = \"Math[04|03:05] #Francais[15|16:14] #Anglais[15|16:17] #PC[04|03:07] #SVT[12|09:10] #HG[16|15:17]\"\n",
    "\n",
    "format_note(note)"
   ]
  },
  {
   "cell_type": "code",
   "execution_count": 14,
   "metadata": {},
   "outputs": [
    {
     "name": "stdout",
     "output_type": "stream",
     "text": [
      "       Code  ...                                              Notes\n",
      "0    AAD003  ...  {'devoirs': {'MATH': 24.0, 'FRANCAIS': 25.0, '...\n",
      "1    AAD003  ...  {'devoirs': {'MATH': 18.0, 'FRANCAIS': 28.0, '...\n",
      "2    AAD003  ...  {'devoirs': {'MATH': 17.0, 'FRANCAIS': 21.0, '...\n",
      "3    AAD003  ...  {'devoirs': {'MATH': 17.0, 'FRANCAIS': 31.0, '...\n",
      "4    AAD003  ...  {'devoirs': {'MATH': 39.5, 'FRANCAIS': 29.0, '...\n",
      "..      ...  ...                                                ...\n",
      "215  BNT021  ...  {'devoirs': {'SVT': 24.0, 'PC': 25.0, 'FRANCAI...\n",
      "216  BNT021  ...                                                 {}\n",
      "217  BNT021  ...  {'devoirs': {'SVT': 19.0, 'PC': 22.0, 'FRANCAI...\n",
      "218  BNT021  ...  {'devoirs': {'SVT': 23.0, 'PC': 33.0, 'FRANCAI...\n",
      "219  BNT021  ...  {'devoirs': {'SVT': 35.0, 'PC': 27.0, 'FRANCAI...\n",
      "\n",
      "[220 rows x 7 columns]\n"
     ]
    },
    {
     "data": {
      "text/plain": [
       "False"
      ]
     },
     "execution_count": 14,
     "metadata": {},
     "output_type": "execute_result"
    }
   ],
   "source": [
    "from app import App\n",
    "app = App()\n",
    "app.data_to_json()\n"
   ]
  },
  {
   "cell_type": "code",
   "execution_count": 16,
   "metadata": {},
   "outputs": [
    {
     "data": {
      "text/plain": [
       "{'q': 'q'}"
      ]
     },
     "execution_count": 16,
     "metadata": {},
     "output_type": "execute_result"
    }
   ],
   "source": [
    "di = {\n",
    "    \n",
    "}\n",
    "di[\"q\"] = \"q\"\n",
    "di"
   ]
  },
  {
   "cell_type": "code",
   "execution_count": null,
   "metadata": {},
   "outputs": [],
   "source": []
  }
 ],
 "metadata": {
  "kernelspec": {
   "display_name": "Python 3",
   "language": "python",
   "name": "python3"
  },
  "language_info": {
   "codemirror_mode": {
    "name": "ipython",
    "version": 3
   },
   "file_extension": ".py",
   "mimetype": "text/x-python",
   "name": "python",
   "nbconvert_exporter": "python",
   "pygments_lexer": "ipython3",
   "version": "3.10.12"
  }
 },
 "nbformat": 4,
 "nbformat_minor": 2
}
